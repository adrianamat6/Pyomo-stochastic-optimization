{
 "cells": [
  {
   "cell_type": "code",
   "execution_count": 10,
   "metadata": {},
   "outputs": [
    {
     "name": "stdout",
     "output_type": "stream",
     "text": [
      "Period: 1, Prod. Amount: 3.0\n",
      "Period: 2, Prod. Amount: 5.0\n",
      "Period: 3, Prod. Amount: 5.0\n",
      "Period: 4, Prod. Amount: 5.0\n",
      "Period: 5, Prod. Amount: 0.0\n"
     ]
    }
   ],
   "source": [
    "from pyomo.environ import *\n",
    "model = ConcreteModel()\n",
    "model.T = RangeSet(5) # time periods\n",
    "i0 = 5.0 # initial inventory\n",
    "c = 4.6 # setup cost\n",
    "h_pos = 0.7 # inventory holding cost\n",
    "h_neg = 1.2 # shortage cost\n",
    "P = 5.0 # maximum production amount\n",
    "# demand during period t\n",
    "d = {1: 5.0, 2:7.0, 3:6.2, 4:3.1, 5:1.7}\n",
    "# create a block for a single time period\n",
    "def lotsizing_block_rule(b, t):\n",
    "# define the variables\n",
    "    b.y = Var(domain=Binary)\n",
    "    b.x = Var(domain=NonNegativeReals)\n",
    "    b.i = Var()\n",
    "    b.i0 = Var()\n",
    "    b.i_pos = Var(domain=NonNegativeReals)\n",
    "    b.i_neg = Var(domain=NonNegativeReals)\n",
    "# define the constraints\n",
    "    b.inventory = Constraint(expr=b.i == b.i0 + b.x - d[t])\n",
    "    b.pos_neg = Constraint(expr=b.i == b.i_pos - b.i_neg)\n",
    "    b.prod_indicator = Constraint(expr=b.x <= P * b.y)\n",
    "\n",
    "\n",
    "model.lsb = Block(model.T, rule=lotsizing_block_rule)\n",
    "\n",
    "# link the inventory variables between blocks\n",
    "def i_linking_rule(m, t):\n",
    "    if t == m.T.first():\n",
    "        return m.lsb[t].i0 == i0\n",
    "    return m.lsb[t].i0 == m.lsb[t-1].i\n",
    "model.i_linking = Constraint(model.T, rule=i_linking_rule)\n",
    "\n",
    "# construct the objective function over all the blocks\n",
    "def obj_rule(m):\n",
    "    return sum(c*m.lsb[t].y + h_pos*m.lsb[t].i_pos + \\\n",
    "        h_neg*m.lsb[t].i_neg for t in m.T)\n",
    "model.obj = Objective(rule=obj_rule)\n",
    "\n",
    "### solve the problem\n",
    "solver = SolverFactory(\"glpk\")\n",
    "solver.solve(model)\n",
    "\n",
    "# print the results\n",
    "for t in model.T:\n",
    "    print('Period: {0}, Prod. Amount: {1}'.format(t, \\\n",
    "        value(model.lsb[t].x)))\n",
    "    "
   ]
  },
  {
   "cell_type": "code",
   "execution_count": null,
   "metadata": {},
   "outputs": [],
   "source": []
  }
 ],
 "metadata": {
  "kernelspec": {
   "display_name": "Python 3",
   "language": "python",
   "name": "python3"
  },
  "language_info": {
   "codemirror_mode": {
    "name": "ipython",
    "version": 3
   },
   "file_extension": ".py",
   "mimetype": "text/x-python",
   "name": "python",
   "nbconvert_exporter": "python",
   "pygments_lexer": "ipython3",
   "version": "3.6.4"
  }
 },
 "nbformat": 4,
 "nbformat_minor": 2
}
